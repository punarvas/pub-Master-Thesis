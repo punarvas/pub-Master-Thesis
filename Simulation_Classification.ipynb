{
 "cells": [
  {
   "cell_type": "markdown",
   "id": "0b0d6384-c651-43a5-9555-2644cdf2de08",
   "metadata": {},
   "source": [
    "Simulation Classification\n",
    "------\n",
    "\n",
    "Not all the simulations from the dataset are valid since the temperature of the device recorded is infeasible in real world. Hence, as part of the surrogate pipeline we have developed a machine learning-based **classification model** which is capable of classifying the instance based on the temperature, whether feasible or not. "
   ]
  },
  {
   "cell_type": "markdown",
   "id": "93da3545-2369-481d-9b04-55ccd2acbf2d",
   "metadata": {},
   "source": [
    "- We start by loading the dataset using the pre-defined script."
   ]
  },
  {
   "cell_type": "code",
   "execution_count": null,
   "id": "a11cf2e3-7b5c-4e2a-9ff0-d4bdcef04108",
   "metadata": {},
   "outputs": [],
   "source": []
  }
 ],
 "metadata": {
  "kernelspec": {
   "display_name": "Python 3 (ipykernel)",
   "language": "python",
   "name": "python3"
  },
  "language_info": {
   "codemirror_mode": {
    "name": "ipython",
    "version": 3
   },
   "file_extension": ".py",
   "mimetype": "text/x-python",
   "name": "python",
   "nbconvert_exporter": "python",
   "pygments_lexer": "ipython3",
   "version": "3.11.7"
  }
 },
 "nbformat": 4,
 "nbformat_minor": 5
}
